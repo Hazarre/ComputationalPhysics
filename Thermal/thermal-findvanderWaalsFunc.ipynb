{
 "cells": [
  {
   "cell_type": "markdown",
   "metadata": {},
   "source": [
    "Finds the coefficient a,b for vanderWaals equation 2nd term, provided we have been given the virial coefficients 2nd term. "
   ]
  },
  {
   "cell_type": "code",
   "execution_count": 14,
   "metadata": {},
   "outputs": [
    {
     "name": "stdout",
     "output_type": "stream",
     "text": [
      "Temp 100k has 2nd virial term -0.192539\n",
      "Temp 200k has 2nd virial term -0.021059\n",
      "Temp 300k has 2nd virial term -0.001685\n",
      "Temp 400k has 2nd virial term 0.002708\n",
      "Temp 500k has 2nd virial term 0.004067\n",
      "Temp 600k has 2nd virial term 0.004272\n"
     ]
    }
   ],
   "source": [
    "# B is the measure 2nd terms of virial coefficients of N_2\n",
    "# the key is temp in Kelvin, the value is cm^3/mole of N_2\n",
    "B = { \n",
    "100: -160,\n",
    "200: -35,\n",
    "300: -4.2,\n",
    "400: 9.0,\n",
    "500: 16.9,\n",
    "600: 21.3}\n",
    "\n",
    "R = 8.31 # J/(mol*k)\n",
    "T = 297  # k\n",
    "P = 1    # atm\n",
    "\n",
    "def virial_2nd_term(B,T):\n",
    "    return B/(R*T/P)   \n",
    "\n"
   ]
  },
  {
   "cell_type": "code",
   "execution_count": 2,
   "metadata": {},
   "outputs": [
    {
     "ename": "NameError",
     "evalue": "name 'R' is not defined",
     "output_type": "error",
     "traceback": [
      "\u001b[1;31m---------------------------------------------------------------------------\u001b[0m",
      "\u001b[1;31mNameError\u001b[0m                                 Traceback (most recent call last)",
      "\u001b[1;32m<ipython-input-2-75217833489d>\u001b[0m in \u001b[0;36m<module>\u001b[1;34m\u001b[0m\n\u001b[0;32m      3\u001b[0m \u001b[1;33m\u001b[0m\u001b[0m\n\u001b[0;32m      4\u001b[0m \u001b[1;31m# use the two data points at min Max Temp\u001b[0m\u001b[1;33m\u001b[0m\u001b[1;33m\u001b[0m\u001b[1;33m\u001b[0m\u001b[0m\n\u001b[1;32m----> 5\u001b[1;33m \u001b[0ma\u001b[0m \u001b[1;33m=\u001b[0m \u001b[1;33m-\u001b[0m\u001b[1;36m181.3\u001b[0m\u001b[1;33m*\u001b[0m\u001b[1;36m120\u001b[0m\u001b[1;33m*\u001b[0m\u001b[0mR\u001b[0m\u001b[1;33m\u001b[0m\u001b[1;33m\u001b[0m\u001b[0m\n\u001b[0m\u001b[0;32m      6\u001b[0m \u001b[0mb\u001b[0m \u001b[1;33m=\u001b[0m \u001b[1;33m-\u001b[0m\u001b[1;36m160\u001b[0m \u001b[1;33m+\u001b[0m \u001b[1;36m181.3\u001b[0m\u001b[1;33m*\u001b[0m\u001b[1;36m120\u001b[0m\u001b[1;33m/\u001b[0m\u001b[1;36m100\u001b[0m\u001b[1;33m\u001b[0m\u001b[1;33m\u001b[0m\u001b[0m\n\u001b[0;32m      7\u001b[0m \u001b[1;32mdef\u001b[0m \u001b[0mvanderWaals_2nd_term\u001b[0m\u001b[1;33m(\u001b[0m\u001b[0mT\u001b[0m\u001b[1;33m)\u001b[0m\u001b[1;33m:\u001b[0m\u001b[1;33m\u001b[0m\u001b[1;33m\u001b[0m\u001b[0m\n",
      "\u001b[1;31mNameError\u001b[0m: name 'R' is not defined"
     ]
    }
   ],
   "source": [
    "import matplotlib.pyplot as plt\n",
    "import numpy as np\n",
    "\n",
    "# use the two data points at min Max Temp \n",
    "a = -181.3*120*R\n",
    "b = -160 + 181.3*120/100\n",
    "def vanderWaals_2nd_term(T):\n",
    "    return b + a/R/T\n",
    "\n",
    "T = np.linspace(101,600,500)\n",
    "vanderWaals_2nd_term(T)\n",
    "plt.plot(list(B.keys()) , list(B.values()),\"ro\")\n",
    "plt.plot(T ,vanderWaals_2nd_term(T),\"b\")\n",
    "plt.ylabel('2nd coefficient (cm^3/mole of N_2)')\n",
    "plt.xlabel('temp (k)')\n",
    "plt.show()\n",
    "\n",
    "print(\"error of using vanderWaals compared to virial coefficients\")\n",
    "error =0\n",
    "for T in B.keys(): \n",
    "    print(\"Temp %dk has 2nd virial coef. %f vanderWaals coef. %f\" % (T, B[T], vanderWaals_2nd_term(T)) )\n",
    "    error += (B[T]-vanderWaals_2nd_term(T))/B[T]\n",
    "print(error/6)"
   ]
  },
  {
   "cell_type": "code",
   "execution_count": null,
   "metadata": {},
   "outputs": [],
   "source": []
  },
  {
   "cell_type": "code",
   "execution_count": null,
   "metadata": {},
   "outputs": [],
   "source": []
  }
 ],
 "metadata": {
  "kernelspec": {
   "display_name": "Python 3",
   "language": "python",
   "name": "python3"
  },
  "language_info": {
   "codemirror_mode": {
    "name": "ipython",
    "version": 3
   },
   "file_extension": ".py",
   "mimetype": "text/x-python",
   "name": "python",
   "nbconvert_exporter": "python",
   "pygments_lexer": "ipython3",
   "version": "3.7.4"
  }
 },
 "nbformat": 4,
 "nbformat_minor": 2
}
