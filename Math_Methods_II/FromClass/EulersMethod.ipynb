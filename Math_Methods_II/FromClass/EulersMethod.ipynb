{
 "cells": [
  {
   "cell_type": "markdown",
   "metadata": {},
   "source": [
    "# Introduction to Numerical Solution of Differential Equations: Euler's Method"
   ]
  },
  {
   "cell_type": "code",
   "execution_count": 70,
   "metadata": {},
   "outputs": [],
   "source": [
    "import numpy as np\n",
    "import matplotlib.pyplot as plt"
   ]
  },
  {
   "cell_type": "markdown",
   "metadata": {},
   "source": [
    "The mathematician Leonard Euler developed a wonderful and intuitive method for solving first order differential equations. Suppose we are given the differential equation\n",
    "\n",
    "$$\n",
    "\\dot{x}(t)=f(t, x(t)),\n",
    "$$\n",
    "\n",
    "with $f(t, x(t))$ a given function. The idea is simply to approximate the derivative as a finite difference:\n",
    "\n",
    "$$\n",
    "\\dot{x}(t) = \\frac{dx}{dt}(t) = \\lim_{s \\rightarrow 0} \\frac{x(t+s)-x(t)}{s} \\approx \\frac{x(t+s)-x(t)}{s},\n",
    "$$\n",
    "\n",
    "where the approximation holds for finite, but small $s$. Using this formula, we can solve for $x$ after an additional time step $s$ has gone by\n",
    "\n",
    "$$\n",
    "x(t+s) = s \\cdot \\dot{x}(t) +x(t) = s \\cdot f(t, x(t))+x(t).\n",
    "$$\n",
    "\n",
    "In this final formula we are supposed to think of $f(t, x(t))$ as given when the differential equation was first specified. This means that once we are given an initial value of $x(t)$ at some time, we can successively find it after one time step $s$, then after another step and another and so on. This gives us $x(t)$ for all future times. \n",
    "\n",
    "Below I use the differential equation that you solved in part (a) as an example of this technique. "
   ]
  },
  {
   "cell_type": "markdown",
   "metadata": {},
   "source": [
    "Suppose that the differential equation that we want to solve is\n",
    "\n",
    "$$\n",
    "\\dot{x}(t) = - \\lambda x(t), \n",
    "$$\n",
    "and that this differential equation is subject to the initial condition $x(0) = 10$ and has $\\lambda=2$. Let's pick a small time step, say $s=0.25$, and evolve this initial condition. After one time step we have \n",
    "\n",
    "$$\n",
    "x(0+0.25) = 0.25 \\cdot \\dot{x}(0)+x(0) = 0.25 \\cdot (-\\lambda x(0))+x(0) = 0.25 \\cdot (-2 (10))+10 = 5. \n",
    "$$\n",
    "\n",
    "We could repeat this process again and again, but clearly that is a task for a computer. So, let's write a code to do it:"
   ]
  },
  {
   "cell_type": "code",
   "execution_count": 71,
   "metadata": {},
   "outputs": [
    {
     "data": {
      "image/png": "[encoded data removed]",
      "text/plain": [
       "<Figure size 720x360 with 1 Axes>"
      ]
     },
     "metadata": {
      "needs_background": "light"
     },
     "output_type": "display_data"
    }
   ],
   "source": [
    "tvals = np.linspace(0.,10.,41)\n",
    "x = np.zeros(len(tvals))\n",
    "x[0]=x0=10\n",
    "lam=2\n",
    "s=0.25\n",
    "for i in range(len(tvals)-1):\n",
    "    x[i+1]=s*(-lam*x[i])+x[i];\n",
    "    \n",
    "plt.figure(figsize=(10,5))\n",
    "plt.plot(tvals,x, 'k-')\n",
    "plt.ylabel('position x(t)',fontsize=20)\n",
    "plt.xlabel('time t',fontsize=20)\n",
    "plt.title('Euler Method Result',fontsize=20)\n",
    "plt.xlim(0, 4)\n",
    "plt.ylim(0, 11)\n",
    "plt.show()"
   ]
  },
  {
   "cell_type": "markdown",
   "metadata": {},
   "source": [
    "Exercise (b): Plot the result of the numerical code above together with your analytical solution from part (a). Why doesn't the numerical code agree with your analytical solution very well? Adjust the code so that it gives a much better agreement. [Hint: I've chose a large step size. You'll have to adjust the code in a couple of places to give yourself a more reasonable step size.]"
   ]
  },
  {
   "cell_type": "markdown",
   "metadata": {},
   "source": [
    "Exercise (c): Wonderfully, unlike the analytical methods that we've been using in class for second order differential equations, these numerical techniques can immediately be used to solve nonlinear differential equations. Solve the differential equation\n",
    "\n",
    "$$\n",
    "\\dot{x}(t) =  x^2\n",
    "$$\n",
    "\n",
    "using the Euler method. Take the initial condition $x(0)=0.1$. \n",
    "\n",
    "Because this equation is first order, you can also solve it analytically, although you can't use the Standard Guess. Solve this equation using integration and compare your analytical to your numerical solution. "
   ]
  }
 ],
 "metadata": {
  "kernelspec": {
   "display_name": "Python 3",
   "language": "python",
   "name": "python3"
  },
  "language_info": {
   "codemirror_mode": {
    "name": "ipython",
    "version": 3
   },
   "file_extension": ".py",
   "mimetype": "text/x-python",
   "name": "python",
   "nbconvert_exporter": "python",
   "pygments_lexer": "ipython3",
   "version": "3.8.5"
  }
 },
 "nbformat": 4,
 "nbformat_minor": 2
}
