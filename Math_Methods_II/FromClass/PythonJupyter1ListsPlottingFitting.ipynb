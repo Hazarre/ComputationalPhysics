{
 "cells": [
  {
   "cell_type": "markdown",
   "metadata": {},
   "source": [
    "# Introduction to Python and Jupyter 1: Lists, Plotting, and Fitting"
   ]
  },
  {
   "cell_type": "markdown",
   "metadata": {},
   "source": [
    "For many things Python behaves much like the calculators that you are accustomed to using. The first thing you need to know is how to tell it to run a calculation. Below I have put the input 1+1. To get Python to compute the answer, click in the box where it is written and hit the shift and enter keys together. Just hitting enter (also known as return) will only move you to the next line of input, like a carriage return on a typewriter, and so it is essential to also hold the shift key. "
   ]
  },
  {
   "cell_type": "code",
   "execution_count": null,
   "metadata": {},
   "outputs": [],
   "source": [
    "1+1"
   ]
  },
  {
   "cell_type": "markdown",
   "metadata": {},
   "source": [
    "Try a few calculations of your own using subtraction, multiplication and division operations. You will notice that if you divide whole numbers in Python that it will return the decimal form of the ratio. "
   ]
  },
  {
   "cell_type": "code",
   "execution_count": null,
   "metadata": {},
   "outputs": [],
   "source": [
    "35-4"
   ]
  },
  {
   "cell_type": "code",
   "execution_count": null,
   "metadata": {},
   "outputs": [],
   "source": [
    "3*4"
   ]
  },
  {
   "cell_type": "code",
   "execution_count": null,
   "metadata": {},
   "outputs": [],
   "source": [
    "4/5"
   ]
  },
  {
   "cell_type": "markdown",
   "metadata": {},
   "source": [
    "## Lists"
   ]
  },
  {
   "cell_type": "markdown",
   "metadata": {},
   "source": [
    "A useful construct that we will use often is a list (also known as an array).  A list is any collection of numbers (or other things like text) lined up in a row. We'll make a list in a moment.\n",
    "\n",
    "If you've never done any programming, a tricky piece in any computer coding is using the right 'syntax'. That is, the correct symbols to tell the computer instructions. In order for a computer to know what you want it to do, you have to tell it precise instructions with precise symbols. If you use different symbols than it expects, even if those symbols usually mean the same thing in ordinary everyday usage, it won't work. I mention this here, because lists are an example of this. To enter a list in Python you have to use the square brace [ to open the list, commas to separate its elements, and a square brace to end the list ]. If you use parenthesis it won't work. Here's a list that I've given the name data:"
   ]
  },
  {
   "cell_type": "code",
   "execution_count": 3,
   "metadata": {},
   "outputs": [],
   "source": [
    "data = [1,2,3,4,5]"
   ]
  },
  {
   "cell_type": "markdown",
   "metadata": {},
   "source": [
    "Run this list as a command (by clicking in the cell above and using shift+enter or using the Run command in the tool bar). Now, go to the Insert menu at the top of this page and select \"Insert Cell Below\". Click in the grey area of your new cell, type data, and run it as a command and see what happens."
   ]
  },
  {
   "cell_type": "markdown",
   "metadata": {},
   "source": [
    "Another way to accomplish the same thing is to use the print command:"
   ]
  },
  {
   "cell_type": "code",
   "execution_count": null,
   "metadata": {},
   "outputs": [],
   "source": [
    "print(data)"
   ]
  },
  {
   "cell_type": "markdown",
   "metadata": {},
   "source": [
    "You can also access the individual elements of a list as follows:"
   ]
  },
  {
   "cell_type": "code",
   "execution_count": null,
   "metadata": {},
   "outputs": [],
   "source": [
    "data[2]"
   ]
  },
  {
   "cell_type": "markdown",
   "metadata": {},
   "source": [
    "Notice that this accesses the third element of the list. This is because the indexing that keeps track of the elements of the list starts at 0. Here are a few more examples:"
   ]
  },
  {
   "cell_type": "code",
   "execution_count": null,
   "metadata": {},
   "outputs": [],
   "source": [
    "print(data[0],data[1],data[4])"
   ]
  },
  {
   "cell_type": "markdown",
   "metadata": {},
   "source": [
    "You can also use this indexing to change individual elements of the list:"
   ]
  },
  {
   "cell_type": "code",
   "execution_count": null,
   "metadata": {},
   "outputs": [],
   "source": [
    "data[2]=6\n",
    "print(data)"
   ]
  },
  {
   "cell_type": "markdown",
   "metadata": {},
   "source": [
    "Finally, it is very useful to be able to do operations on all the elements of a list. One way to do this is using a 'for loop', e.g.:"
   ]
  },
  {
   "cell_type": "code",
   "execution_count": null,
   "metadata": {},
   "outputs": [],
   "source": [
    "data2 = [2*x for x in data]\n",
    "data2"
   ]
  },
  {
   "cell_type": "markdown",
   "metadata": {},
   "source": [
    "As you may have guessed, x acts as a variable that takes on each value in the list data. The first part of the command computes 2*x for each x and assigns the resulting value to the same location in data2 that x was drawn from in data."
   ]
  },
  {
   "cell_type": "markdown",
   "metadata": {},
   "source": [
    "## Interlude"
   ]
  },
  {
   "cell_type": "markdown",
   "metadata": {},
   "source": [
    "The most important tool you have to learn Python is the huge body of documentation online. Feel free to search for any particular command or technique that you would like to try. To make these searches a little less overwhelming we recommend: the (free!) book by Allen B. Downey *Think Python* (https://greenteapress.com/wp/think-python-2e/); the Python documentation https://docs.python.org/3/tutorial/. The documentation pages will explain the syntax (exact symbols you need to enter) and give you examples for a huge number of commands; the w3schools site can be useful for a quick look up https://www.w3schools.com/python/; and the books *Python Programming*, 3rd ed. by John Zelle and *Introduction to Computation and Programming Using Python: With Application to Understanding Data*, 2nd ed. by John V. Guttag both come recommended by our computer science colleagues.  "
   ]
  },
  {
   "cell_type": "markdown",
   "metadata": {},
   "source": [
    "## Plotting"
   ]
  },
  {
   "cell_type": "markdown",
   "metadata": {},
   "source": [
    "Next we will cover plotting simple data and finding linear fits to these data. \n",
    "\n",
    "Many commands are specialized and will not be loaded every time you run Python. Instead, they are contained in specialized packages that you load whenever you want that set of commands. An example of this is the set of plotting commands we will use here. These commands are contained in the matplotlib.pyplot package. We can load them by running the following command:"
   ]
  },
  {
   "cell_type": "code",
   "execution_count": 1,
   "metadata": {},
   "outputs": [],
   "source": [
    "import matplotlib.pyplot as plt"
   ]
  },
  {
   "cell_type": "markdown",
   "metadata": {},
   "source": [
    "The 'as' portion of this command allows you to give a shorthand name to the package that you are loading. This can make your code easier to read and type. Here matplotlib.pyplot is imported with the shorthand plt. For example, we can access the plot command from this package as follows:"
   ]
  },
  {
   "cell_type": "code",
   "execution_count": 5,
   "metadata": {},
   "outputs": [
    {
     "data": {
      "text/plain": [
       "[<matplotlib.lines.Line2D at 0x1076e2b00>]"
      ]
     },
     "execution_count": 5,
     "metadata": {},
     "output_type": "execute_result"
    },
    {
     "data": {
      "image/png": "[encoded data removed]",
      "text/plain": [
       "<Figure size 432x288 with 1 Axes>"
      ]
     },
     "metadata": {},
     "output_type": "display_data"
    }
   ],
   "source": [
    "plt.plot(data)"
   ]
  },
  {
   "cell_type": "markdown",
   "metadata": {},
   "source": [
    "There are several things to notice about this plot. By default the package has used the elements of the list data as the y-values in the plot. The x-values are just the index position of the elements of the list (notice that the plot starts at zero because of this). Also by default the individual data points are connected by straight line segments and the axes are not labeled. These are defaults we will want to change. \n",
    "\n",
    "To specify both the x-values and the y-values we simply need two lists, say:"
   ]
  },
  {
   "cell_type": "code",
   "execution_count": null,
   "metadata": {},
   "outputs": [],
   "source": [
    "xvals=[1,2,3,4,5]\n",
    "yvals=[1,4,9,16,25]"
   ]
  },
  {
   "cell_type": "markdown",
   "metadata": {},
   "source": [
    "Then we call plot with its first two arguments the x-values and the y-values:"
   ]
  },
  {
   "cell_type": "code",
   "execution_count": null,
   "metadata": {},
   "outputs": [],
   "source": [
    "plt.plot(xvals,yvals,\"ro\")\n",
    "plt.show()"
   ]
  },
  {
   "cell_type": "markdown",
   "metadata": {},
   "source": [
    "The third argument \"ro\" tells plot to color the points red and to draw them as circles instead of connected lines. We can add label axes using the ylabel and xlabel commands:"
   ]
  },
  {
   "cell_type": "code",
   "execution_count": null,
   "metadata": {},
   "outputs": [],
   "source": [
    "plt.plot(xvals,yvals,\"ro\")\n",
    "plt.ylabel('outputs (out units)')\n",
    "plt.xlabel('inputs (in units)')\n",
    "plt.show()"
   ]
  },
  {
   "cell_type": "markdown",
   "metadata": {},
   "source": [
    "For much more on plotting you can check out the matplotlib tutorial on using pyplot: https://matplotlib.org/users/pyplot_tutorial.html."
   ]
  },
  {
   "cell_type": "markdown",
   "metadata": {},
   "source": [
    "## Linear Fitting"
   ]
  },
  {
   "cell_type": "markdown",
   "metadata": {},
   "source": [
    "Now, let's turn to fitting a set of data with a best fit line. To make things simple we'll choose data that really do lie on a line. Of course, even when experimental data are expected to lie along a line, they will typically have some scatter around the best fit. For doing fits we will import the numerical Python package numpy:"
   ]
  },
  {
   "cell_type": "code",
   "execution_count": null,
   "metadata": {},
   "outputs": [],
   "source": [
    "import numpy as np"
   ]
  },
  {
   "cell_type": "markdown",
   "metadata": {},
   "source": [
    "Suppose the data that we want to fit is as follows:"
   ]
  },
  {
   "cell_type": "code",
   "execution_count": null,
   "metadata": {},
   "outputs": [],
   "source": [
    "xvals = [1,2,3,4,5]\n",
    "yvals = [3,5,7,9,11]"
   ]
  },
  {
   "cell_type": "markdown",
   "metadata": {},
   "source": [
    "Before you proceed, predict the slope, m, and the y-intercept, b, of the best fit line. Type your predictions here:\n",
    "\n",
    "m will be ________     and b will be  ________ . \n",
    "\n",
    "We can get Python to calculate the best fit line from the data using the numpy command polyfit. In general this command fits a polynomial to the data, but by calling it with the firs two arguments the xvals and yvals and the third argument 1, we are asking it to find the best fit polynomial of degree one (also known as best fit line) to the data. The command polyfit returns the slope and y-intercept of the best fit in that order and so we can store them in variables with the names m and b as follows:"
   ]
  },
  {
   "cell_type": "code",
   "execution_count": null,
   "metadata": {},
   "outputs": [],
   "source": [
    "m,b = np.polyfit(xvals,yvals,1)\n",
    "print(m,b) "
   ]
  },
  {
   "cell_type": "markdown",
   "metadata": {},
   "source": [
    "Do these values agree with your predictions? \n",
    "\n",
    "Next we can build the y-values for a line with slope m and y-intercept b:"
   ]
  },
  {
   "cell_type": "code",
   "execution_count": null,
   "metadata": {},
   "outputs": [],
   "source": [
    "line = [m*x+b for x in xvals]"
   ]
  },
  {
   "cell_type": "markdown",
   "metadata": {},
   "source": [
    "Finally, we can plot the data we started with and the best fit line together to see how they compare:"
   ]
  },
  {
   "cell_type": "code",
   "execution_count": null,
   "metadata": {},
   "outputs": [],
   "source": [
    "plt.plot(xvals,yvals, 'ro', xvals, line, '-k')\n",
    "plt.ylabel('outputs (out units)')\n",
    "plt.xlabel('inputs (in units)')\n",
    "plt.title('Fit to Measured Values')\n",
    "plt.xlim(0, 6)\n",
    "plt.ylim(0, 12)\n",
    "plt.show()"
   ]
  },
  {
   "cell_type": "markdown",
   "metadata": {},
   "source": [
    "The data we chose above sat perfectly on a line. Let's redo this with a set of data that do not. Also, notice that you can put all of these commands together into a single evaluation:"
   ]
  },
  {
   "cell_type": "code",
   "execution_count": null,
   "metadata": {},
   "outputs": [],
   "source": [
    "xvals = [1,2,3,4,5]\n",
    "yvals = [2.73,4.4,7.23,8.9,10.55]\n",
    "\n",
    "m,b = np.polyfit(xvals,yvals,1)\n",
    "print(m,b)\n",
    "\n",
    "line = [m*x+b for x in xvals]\n",
    "\n",
    "plt.plot(xvals,yvals, 'ro', xvals, line, '-k')\n",
    "plt.ylabel('outputs (out units)')\n",
    "plt.xlabel('inputs (in units)')\n",
    "plt.title('Fit to Measured Values')\n",
    "plt.xlim(0, 6)\n",
    "plt.ylim(0, 12)\n",
    "plt.show()"
   ]
  },
  {
   "cell_type": "markdown",
   "metadata": {},
   "source": [
    "It is useful to retain the print(m,b) command here as well so that you can read off the slope and y-intercept of your best fit line. "
   ]
  }
 ],
 "metadata": {
  "kernelspec": {
   "display_name": "Python 3",
   "language": "python",
   "name": "python3"
  },
  "language_info": {
   "codemirror_mode": {
    "name": "ipython",
    "version": 3
   },
   "file_extension": ".py",
   "mimetype": "text/x-python",
   "name": "python",
   "nbconvert_exporter": "python",
   "pygments_lexer": "ipython3",
   "version": "3.8.5"
  }
 },
 "nbformat": 4,
 "nbformat_minor": 2
}
