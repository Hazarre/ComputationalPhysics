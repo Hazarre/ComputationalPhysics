{
 "cells": [
  {
   "cell_type": "code",
   "execution_count": 46,
   "id": "7932e0cf",
   "metadata": {},
   "outputs": [
    {
     "name": "stdout",
     "output_type": "stream",
     "text": [
      "0.0\n",
      "0.00010000049566810665\n"
     ]
    }
   ],
   "source": [
    "# Use package to numerically calculate value of integration\n",
    "# referring to: https://docs.scipy.org/doc/scipy/reference/tutorial/integrate.html\n",
    "import numpy as np\n",
    "import scipy.integrate as integrate\n",
    "result = integrate.quad(lambda x: x**2/( (x**2+9)*(x**2+4)  ), 0, np.inf)\n",
    "\n",
    "def f(x):# integrand \n",
    "    return x**2/( (x**2+9)*(x**2+4))\n",
    "                  \n",
    "# step size \n",
    "h = 0.1\n",
    "u = 10000# upper bound\n",
    "l = 0    # lower bound         \n",
    "n = ((u-l)/h) # points to numerically get value for                  \n",
    "x = np.linspace(u, h, num=int(n)) # data points \n",
    "I = np.sum( (f(x-h)+f(x-h))*h/2) # integrate all points \n",
    "     \n",
    "# compare numerical computer result with analytical solution => \n",
    "# from package \n",
    "print(result[0] - np.pi/10)\n",
    "\n",
    "# from my implementation\n",
    "print (np.pi/10-I)"
   ]
  }
 ],
 "metadata": {
  "kernelspec": {
   "display_name": "Python 3",
   "language": "python",
   "name": "python3"
  },
  "language_info": {
   "codemirror_mode": {
    "name": "ipython",
    "version": 3
   },
   "file_extension": ".py",
   "mimetype": "text/x-python",
   "name": "python",
   "nbconvert_exporter": "python",
   "pygments_lexer": "ipython3",
   "version": "3.8.5"
  }
 },
 "nbformat": 4,
 "nbformat_minor": 5
}
