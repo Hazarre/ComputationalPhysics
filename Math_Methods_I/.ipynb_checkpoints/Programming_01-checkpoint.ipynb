{
 "cells": [
  {
   "cell_type": "code",
   "execution_count": 1,
   "metadata": {},
   "outputs": [],
   "source": [
    "import numpy as np\n",
    "import matplotlib.pyplot as plt \n",
    "#plank constant\n",
    "hbar =(6.62607004*(10**(-34)))/(2*np.pi)\n"
   ]
  },
  {
   "cell_type": "code",
   "execution_count": 5,
   "metadata": {},
   "outputs": [],
   "source": [
    "def series1(N):\n",
    "    sum=np.zeros(N+1)\n",
    "    for i in range(N):\n",
    "        #display(i)\n",
    "        sum[i+1]=sum[i]+1\n",
    "    return sum\n",
    "\n",
    "def series2(N):\n",
    "    sum=np.zeros(N+1)\n",
    "    for i in range(N):\n",
    "        #display(i)\n",
    "        sum[i+1]=sum[i]+0\n",
    "    return sum"
   ]
  },
  {
   "cell_type": "code",
   "execution_count": 6,
   "metadata": {},
   "outputs": [],
   "source": [
    "maxN = 10000\n",
    "sum1 = series1(maxN)\n",
    "sum2 = series2(maxN)\n",
    "ns   = np.zeros(maxN+1)\n",
    "for i in range(maxN+1):\n",
    "    ns[i] = i\n",
    "#    sum1[i] = series1(i)\n",
    "#    sum2[i] = series2(i)"
   ]
  },
  {
   "cell_type": "code",
   "execution_count": 7,
   "metadata": {},
   "outputs": [
    {
     "data": {
      "image/png": "[encoded data removed]",
      "text/plain": [
       "<Figure size 432x288 with 1 Axes>"
      ]
     },
     "metadata": {
      "needs_background": "light"
     },
     "output_type": "display_data"
    }
   ],
   "source": [
    "plt.plot(ns,sum1,ns,sum2)\n",
    "plt.show()"
   ]
  },
  {
   "cell_type": "code",
   "execution_count": null,
   "metadata": {},
   "outputs": [],
   "source": []
  },
  {
   "cell_type": "code",
   "execution_count": null,
   "metadata": {},
   "outputs": [],
   "source": []
  }
 ],
 "metadata": {
  "kernelspec": {
   "display_name": "Python 3",
   "language": "python",
   "name": "python3"
  },
  "language_info": {
   "codemirror_mode": {
    "name": "ipython",
    "version": 3
   },
   "file_extension": ".py",
   "mimetype": "text/x-python",
   "name": "python",
   "nbconvert_exporter": "python",
   "pygments_lexer": "ipython3",
   "version": "3.7.3"
  }
 },
 "nbformat": 4,
 "nbformat_minor": 2
}
